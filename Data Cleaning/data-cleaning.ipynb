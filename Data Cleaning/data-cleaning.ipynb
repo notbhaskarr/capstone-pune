{
 "cells": [
  {
   "cell_type": "markdown",
   "metadata": {},
   "source": [
    "### Importing the libraries"
   ]
  },
  {
   "cell_type": "code",
   "execution_count": 6,
   "metadata": {},
   "outputs": [],
   "source": [
    "import pandas as pd\n",
    "import numpy as np"
   ]
  },
  {
   "cell_type": "markdown",
   "metadata": {},
   "source": [
    "### Reading the dataset"
   ]
  },
  {
   "cell_type": "code",
   "execution_count": 7,
   "metadata": {},
   "outputs": [],
   "source": [
    "df = pd.read_csv(r\"C:\\\\users\\\\bhask\\\\downloads\\\\zomp.csv\")"
   ]
  },
  {
   "cell_type": "markdown",
   "metadata": {},
   "source": [
    "# Data Cleaning"
   ]
  },
  {
   "cell_type": "code",
   "execution_count": 8,
   "metadata": {},
   "outputs": [
    {
     "data": {
      "text/html": [
       "<div>\n",
       "<style scoped>\n",
       "    .dataframe tbody tr th:only-of-type {\n",
       "        vertical-align: middle;\n",
       "    }\n",
       "\n",
       "    .dataframe tbody tr th {\n",
       "        vertical-align: top;\n",
       "    }\n",
       "\n",
       "    .dataframe thead th {\n",
       "        text-align: right;\n",
       "    }\n",
       "</style>\n",
       "<table border=\"1\" class=\"dataframe\">\n",
       "  <thead>\n",
       "    <tr style=\"text-align: right;\">\n",
       "      <th></th>\n",
       "      <th>Restaurant_Name</th>\n",
       "      <th>Web_Link</th>\n",
       "      <th>Locality</th>\n",
       "      <th>Sponsored</th>\n",
       "      <th>Ratings_out_of_5</th>\n",
       "      <th>Number of votes</th>\n",
       "      <th>Phone_number</th>\n",
       "      <th>Cuisines</th>\n",
       "      <th>Charges_for_two</th>\n",
       "      <th>payment_modes</th>\n",
       "      <th>Rest_timming</th>\n",
       "      <th>Detail_address</th>\n",
       "      <th>5_star_review_percentage</th>\n",
       "      <th>4_star_review_percentage</th>\n",
       "      <th>3_star_review_percentage</th>\n",
       "      <th>2_star_review_percentage</th>\n",
       "      <th>1_star_review_percentage</th>\n",
       "      <th>Wine and Beer</th>\n",
       "      <th>Dance Floor</th>\n",
       "      <th>Lunch Menu</th>\n",
       "      <th>Outdoor Seating</th>\n",
       "      <th>Seaside</th>\n",
       "      <th>4/5 Star</th>\n",
       "      <th>Free Parking</th>\n",
       "      <th>Pet Friendly</th>\n",
       "      <th>Bulk Orders Accepted</th>\n",
       "      <th>Gaming Are</th>\n",
       "      <th>City View</th>\n",
       "      <th>Vegetarian Only</th>\n",
       "      <th>Brunch</th>\n",
       "      <th>Live Music</th>\n",
       "      <th>Wheelchair Accessible</th>\n",
       "      <th>Home Delivery</th>\n",
       "      <th>Celebrity Frequented</th>\n",
       "      <th>Pre-Ordering Required</th>\n",
       "      <th>Pool Table</th>\n",
       "      <th>Keto Options</th>\n",
       "      <th>Wifi</th>\n",
       "      <th>Sports TV</th>\n",
       "      <th>Wine Tasting</th>\n",
       "      <th>Beer</th>\n",
       "      <th>Restricted Entry</th>\n",
       "      <th>Variable Menu</th>\n",
       "      <th>Serves Non Veg</th>\n",
       "      <th>Table booking for Groups</th>\n",
       "      <th>Poolside</th>\n",
       "      <th>Home Baker</th>\n",
       "      <th>Wine</th>\n",
       "      <th>Buffet</th>\n",
       "      <th>Board Games</th>\n",
       "      <th>Vegan Options</th>\n",
       "      <th>Table Reservation Not Required</th>\n",
       "      <th>Table reservation required</th>\n",
       "      <th>Rooftop</th>\n",
       "      <th>BYOB</th>\n",
       "      <th>Egg Preparations</th>\n",
       "      <th>Live Sports Screening</th>\n",
       "      <th>Luxury Dining</th>\n",
       "      <th>Seating Not Available</th>\n",
       "      <th>Desserts and Bakes</th>\n",
       "      <th>Card Upon Delivery</th>\n",
       "      <th>Serves Jain Food</th>\n",
       "      <th>Mall Parking</th>\n",
       "      <th>Available for Functions</th>\n",
       "      <th>Gastro Pub</th>\n",
       "      <th>Live Entertainment</th>\n",
       "      <th>Sugar Free Options</th>\n",
       "      <th>Couple Entry Only</th>\n",
       "      <th>Above 18 Only</th>\n",
       "      <th>Drive in</th>\n",
       "      <th>Drive Thru</th>\n",
       "      <th>Valet Parking Available</th>\n",
       "      <th>Indoor Seating</th>\n",
       "      <th>Free Wifi</th>\n",
       "      <th>Nightlife</th>\n",
       "      <th>Serves Cocktails</th>\n",
       "      <th>Kid Friendly</th>\n",
       "      <th>Craft Beer</th>\n",
       "      <th>All Day Breakfast</th>\n",
       "      <th>Gluten Free Options</th>\n",
       "      <th>Group Meal</th>\n",
       "      <th>Table booking not available</th>\n",
       "      <th>Full Bar Available</th>\n",
       "      <th>Members Only</th>\n",
       "      <th>Standing Tables</th>\n",
       "      <th>Karaoke</th>\n",
       "      <th>Entry Fee</th>\n",
       "      <th>Self Service</th>\n",
       "      <th>Delivery Only</th>\n",
       "      <th>LGBTQIA Friendly</th>\n",
       "      <th>No Alcohol Available</th>\n",
       "      <th>Unlimited Pizz</th>\n",
       "      <th>Private Dining Area Available</th>\n",
       "      <th>Smoking Are</th>\n",
       "      <th>Table booking recommended</th>\n",
       "      <th>Resto Bar</th>\n",
       "      <th>Serves Alcohol</th>\n",
       "      <th>Breakfast</th>\n",
       "      <th>Catering Available</th>\n",
       "      <th>Disabled Friendly</th>\n",
       "      <th>Serves Halal</th>\n",
       "      <th>Takeaway Only</th>\n",
       "      <th>BYOB Only</th>\n",
       "      <th>spam_review</th>\n",
       "    </tr>\n",
       "  </thead>\n",
       "  <tbody>\n",
       "    <tr>\n",
       "      <th>0</th>\n",
       "      <td>AB's - Absolute Barbecues</td>\n",
       "      <td>https://www.zomato.com/pune/abs-absolute-barbe...</td>\n",
       "      <td>Hinjawadi</td>\n",
       "      <td>Casual Dining</td>\n",
       "      <td>4.9</td>\n",
       "      <td>7029  votes</td>\n",
       "      <td>+91 9373112211</td>\n",
       "      <td>Continental, North Indian, Chinese</td>\n",
       "      <td>₹1,400</td>\n",
       "      <td>Cash and Cards accepted</td>\n",
       "      <td>12noon – 4:30pm, 6:30pm – 11:30pm</td>\n",
       "      <td>Shop 206, 2nd Floor, White Square Building, Op...</td>\n",
       "      <td>79%</td>\n",
       "      <td>13%</td>\n",
       "      <td>3%</td>\n",
       "      <td>2%</td>\n",
       "      <td>3%</td>\n",
       "      <td>0</td>\n",
       "      <td>0</td>\n",
       "      <td>0</td>\n",
       "      <td>1</td>\n",
       "      <td>0</td>\n",
       "      <td>0</td>\n",
       "      <td>0</td>\n",
       "      <td>0</td>\n",
       "      <td>0</td>\n",
       "      <td>0</td>\n",
       "      <td>0</td>\n",
       "      <td>0</td>\n",
       "      <td>0</td>\n",
       "      <td>0</td>\n",
       "      <td>0</td>\n",
       "      <td>0</td>\n",
       "      <td>0</td>\n",
       "      <td>0</td>\n",
       "      <td>0</td>\n",
       "      <td>0</td>\n",
       "      <td>0</td>\n",
       "      <td>0</td>\n",
       "      <td>0</td>\n",
       "      <td>0</td>\n",
       "      <td>0</td>\n",
       "      <td>0</td>\n",
       "      <td>0</td>\n",
       "      <td>0</td>\n",
       "      <td>0</td>\n",
       "      <td>0</td>\n",
       "      <td>0</td>\n",
       "      <td>1</td>\n",
       "      <td>0</td>\n",
       "      <td>0</td>\n",
       "      <td>0</td>\n",
       "      <td>0</td>\n",
       "      <td>0</td>\n",
       "      <td>0</td>\n",
       "      <td>0</td>\n",
       "      <td>0</td>\n",
       "      <td>0</td>\n",
       "      <td>0</td>\n",
       "      <td>0</td>\n",
       "      <td>0</td>\n",
       "      <td>0</td>\n",
       "      <td>0</td>\n",
       "      <td>0</td>\n",
       "      <td>0</td>\n",
       "      <td>0</td>\n",
       "      <td>0</td>\n",
       "      <td>0</td>\n",
       "      <td>0</td>\n",
       "      <td>0</td>\n",
       "      <td>0</td>\n",
       "      <td>1</td>\n",
       "      <td>1</td>\n",
       "      <td>0</td>\n",
       "      <td>0</td>\n",
       "      <td>0</td>\n",
       "      <td>0</td>\n",
       "      <td>0</td>\n",
       "      <td>0</td>\n",
       "      <td>0</td>\n",
       "      <td>0</td>\n",
       "      <td>0</td>\n",
       "      <td>1</td>\n",
       "      <td>0</td>\n",
       "      <td>0</td>\n",
       "      <td>0</td>\n",
       "      <td>0</td>\n",
       "      <td>0</td>\n",
       "      <td>0</td>\n",
       "      <td>0</td>\n",
       "      <td>0</td>\n",
       "      <td>0</td>\n",
       "      <td>0</td>\n",
       "      <td>0</td>\n",
       "      <td>1</td>\n",
       "      <td>0</td>\n",
       "      <td>0</td>\n",
       "      <td>0</td>\n",
       "      <td>0</td>\n",
       "      <td>0</td>\n",
       "      <td>0</td>\n",
       "      <td>0</td>\n",
       "      <td>0</td>\n",
       "      <td>1539.0</td>\n",
       "    </tr>\n",
       "  </tbody>\n",
       "</table>\n",
       "</div>"
      ],
      "text/plain": [
       "             Restaurant_Name  \\\n",
       "0  AB's - Absolute Barbecues   \n",
       "\n",
       "                                            Web_Link   Locality  \\\n",
       "0  https://www.zomato.com/pune/abs-absolute-barbe...  Hinjawadi   \n",
       "\n",
       "       Sponsored Ratings_out_of_5 Number of votes    Phone_number  \\\n",
       "0  Casual Dining              4.9     7029  votes  +91 9373112211   \n",
       "\n",
       "                             Cuisines Charges_for_two  \\\n",
       "0  Continental, North Indian, Chinese          ₹1,400   \n",
       "\n",
       "             payment_modes                       Rest_timming  \\\n",
       "0  Cash and Cards accepted  12noon – 4:30pm, 6:30pm – 11:30pm   \n",
       "\n",
       "                                      Detail_address 5_star_review_percentage  \\\n",
       "0  Shop 206, 2nd Floor, White Square Building, Op...                      79%   \n",
       "\n",
       "  4_star_review_percentage 3_star_review_percentage 2_star_review_percentage  \\\n",
       "0                      13%                       3%                       2%   \n",
       "\n",
       "  1_star_review_percentage  Wine and Beer  Dance Floor  Lunch Menu  \\\n",
       "0                       3%              0            0           0   \n",
       "\n",
       "   Outdoor Seating  Seaside  4/5 Star  Free Parking  Pet Friendly  \\\n",
       "0                1        0         0             0             0   \n",
       "\n",
       "   Bulk Orders Accepted  Gaming Are  City View  Vegetarian Only  Brunch  \\\n",
       "0                     0           0          0                0       0   \n",
       "\n",
       "   Live Music  Wheelchair Accessible  Home Delivery  Celebrity Frequented  \\\n",
       "0           0                      0              0                     0   \n",
       "\n",
       "   Pre-Ordering Required  Pool Table  Keto Options  Wifi  Sports TV  \\\n",
       "0                      0           0             0     0          0   \n",
       "\n",
       "   Wine Tasting  Beer  Restricted Entry  Variable Menu  Serves Non Veg  \\\n",
       "0             0     0                 0              0               0   \n",
       "\n",
       "   Table booking for Groups  Poolside  Home Baker  Wine  Buffet  Board Games  \\\n",
       "0                         0         0           0     0       1            0   \n",
       "\n",
       "   Vegan Options  Table Reservation Not Required  Table reservation required  \\\n",
       "0              0                               0                           0   \n",
       "\n",
       "   Rooftop  BYOB  Egg Preparations  Live Sports Screening  Luxury Dining  \\\n",
       "0        0     0                 0                      0              0   \n",
       "\n",
       "   Seating Not Available  Desserts and Bakes  Card Upon Delivery  \\\n",
       "0                      0                   0                   0   \n",
       "\n",
       "   Serves Jain Food  Mall Parking  Available for Functions  Gastro Pub  \\\n",
       "0                 0             0                        0           0   \n",
       "\n",
       "   Live Entertainment  Sugar Free Options  Couple Entry Only  Above 18 Only  \\\n",
       "0                   0                   0                  0              0   \n",
       "\n",
       "   Drive in  Drive Thru  Valet Parking Available  Indoor Seating  Free Wifi  \\\n",
       "0         0           0                        1               1          0   \n",
       "\n",
       "   Nightlife  Serves Cocktails  Kid Friendly  Craft Beer  All Day Breakfast  \\\n",
       "0          0                 0             0           0                  0   \n",
       "\n",
       "   Gluten Free Options  Group Meal  Table booking not available  \\\n",
       "0                    0           0                            0   \n",
       "\n",
       "   Full Bar Available  Members Only  Standing Tables  Karaoke  Entry Fee  \\\n",
       "0                   1             0                0        0          0   \n",
       "\n",
       "   Self Service  Delivery Only  LGBTQIA Friendly  No Alcohol Available  \\\n",
       "0             0              0                 0                     0   \n",
       "\n",
       "   Unlimited Pizz  Private Dining Area Available  Smoking Are  \\\n",
       "0               0                              0            0   \n",
       "\n",
       "   Table booking recommended  Resto Bar  Serves Alcohol  Breakfast  \\\n",
       "0                          1          0               0          0   \n",
       "\n",
       "   Catering Available  Disabled Friendly  Serves Halal  Takeaway Only  \\\n",
       "0                   0                  0             0              0   \n",
       "\n",
       "   BYOB Only  spam_review  \n",
       "0          0       1539.0  "
      ]
     },
     "execution_count": 8,
     "metadata": {},
     "output_type": "execute_result"
    }
   ],
   "source": [
    "dataset = df.copy()\n",
    "pd.set_option('display.max_columns', None)\n",
    "df.head(n=1)"
   ]
  },
  {
   "cell_type": "markdown",
   "metadata": {},
   "source": [
    "We will drop some unnecessary columns from our dataset."
   ]
  },
  {
   "cell_type": "code",
   "execution_count": 9,
   "metadata": {},
   "outputs": [],
   "source": [
    "df.drop(df.columns[-11:], axis=1, inplace= True)\n",
    "df.drop(df.columns[-10:-2], axis=1, inplace=True)\n",
    "df.drop(df.columns[-11:-3], axis=1, inplace=True)\n",
    "df.drop(df.columns[-24:-4], axis=1, inplace=True)\n",
    "df.drop(df.columns[-24:-5], axis=1, inplace=True)\n",
    "df.drop(df.columns[-15:-6], axis=1, inplace=True)"
   ]
  },
  {
   "cell_type": "markdown",
   "metadata": {},
   "source": [
    "Dropped some more columns as they are not required in our analysis- such as 'Web_Link' and 'Phone_number'"
   ]
  },
  {
   "cell_type": "code",
   "execution_count": 10,
   "metadata": {},
   "outputs": [
    {
     "data": {
      "text/html": [
       "<div>\n",
       "<style scoped>\n",
       "    .dataframe tbody tr th:only-of-type {\n",
       "        vertical-align: middle;\n",
       "    }\n",
       "\n",
       "    .dataframe tbody tr th {\n",
       "        vertical-align: top;\n",
       "    }\n",
       "\n",
       "    .dataframe thead th {\n",
       "        text-align: right;\n",
       "    }\n",
       "</style>\n",
       "<table border=\"1\" class=\"dataframe\">\n",
       "  <thead>\n",
       "    <tr style=\"text-align: right;\">\n",
       "      <th></th>\n",
       "      <th>Restaurant_Name</th>\n",
       "      <th>Web_Link</th>\n",
       "      <th>Locality</th>\n",
       "      <th>Sponsored</th>\n",
       "      <th>Ratings_out_of_5</th>\n",
       "      <th>Number of votes</th>\n",
       "      <th>Cuisines</th>\n",
       "      <th>Charges_for_two</th>\n",
       "      <th>payment_modes</th>\n",
       "      <th>Rest_timming</th>\n",
       "      <th>Detail_address</th>\n",
       "      <th>Home Delivery</th>\n",
       "      <th>Table reservation required</th>\n",
       "      <th>Free Wifi</th>\n",
       "      <th>Full Bar Available</th>\n",
       "      <th>Unlimited Pizz</th>\n",
       "      <th>Private Dining Area Available</th>\n",
       "    </tr>\n",
       "  </thead>\n",
       "  <tbody>\n",
       "    <tr>\n",
       "      <th>0</th>\n",
       "      <td>AB's - Absolute Barbecues</td>\n",
       "      <td>https://www.zomato.com/pune/abs-absolute-barbe...</td>\n",
       "      <td>Hinjawadi</td>\n",
       "      <td>Casual Dining</td>\n",
       "      <td>4.9</td>\n",
       "      <td>7029  votes</td>\n",
       "      <td>Continental, North Indian, Chinese</td>\n",
       "      <td>₹1,400</td>\n",
       "      <td>Cash and Cards accepted</td>\n",
       "      <td>12noon – 4:30pm, 6:30pm – 11:30pm</td>\n",
       "      <td>Shop 206, 2nd Floor, White Square Building, Op...</td>\n",
       "      <td>0</td>\n",
       "      <td>0</td>\n",
       "      <td>0</td>\n",
       "      <td>1</td>\n",
       "      <td>0</td>\n",
       "      <td>0</td>\n",
       "    </tr>\n",
       "  </tbody>\n",
       "</table>\n",
       "</div>"
      ],
      "text/plain": [
       "             Restaurant_Name  \\\n",
       "0  AB's - Absolute Barbecues   \n",
       "\n",
       "                                            Web_Link   Locality  \\\n",
       "0  https://www.zomato.com/pune/abs-absolute-barbe...  Hinjawadi   \n",
       "\n",
       "       Sponsored Ratings_out_of_5 Number of votes  \\\n",
       "0  Casual Dining              4.9     7029  votes   \n",
       "\n",
       "                             Cuisines Charges_for_two  \\\n",
       "0  Continental, North Indian, Chinese          ₹1,400   \n",
       "\n",
       "             payment_modes                       Rest_timming  \\\n",
       "0  Cash and Cards accepted  12noon – 4:30pm, 6:30pm – 11:30pm   \n",
       "\n",
       "                                      Detail_address  Home Delivery  \\\n",
       "0  Shop 206, 2nd Floor, White Square Building, Op...              0   \n",
       "\n",
       "   Table reservation required  Free Wifi  Full Bar Available  Unlimited Pizz  \\\n",
       "0                           0          0                   1               0   \n",
       "\n",
       "   Private Dining Area Available  \n",
       "0                              0  "
      ]
     },
     "execution_count": 10,
     "metadata": {},
     "output_type": "execute_result"
    }
   ],
   "source": [
    "df.drop(df.columns[-17:-6], axis=1, inplace=True)\n",
    "df.drop(['Phone_number'], axis = 1, inplace = True)\n",
    "df.head(n=1)"
   ]
  },
  {
   "cell_type": "markdown",
   "metadata": {},
   "source": [
    "Renaming some columns for better readability."
   ]
  },
  {
   "cell_type": "code",
   "execution_count": 11,
   "metadata": {},
   "outputs": [
    {
     "data": {
      "text/html": [
       "<div>\n",
       "<style scoped>\n",
       "    .dataframe tbody tr th:only-of-type {\n",
       "        vertical-align: middle;\n",
       "    }\n",
       "\n",
       "    .dataframe tbody tr th {\n",
       "        vertical-align: top;\n",
       "    }\n",
       "\n",
       "    .dataframe thead th {\n",
       "        text-align: right;\n",
       "    }\n",
       "</style>\n",
       "<table border=\"1\" class=\"dataframe\">\n",
       "  <thead>\n",
       "    <tr style=\"text-align: right;\">\n",
       "      <th></th>\n",
       "      <th>name</th>\n",
       "      <th>Web_Link</th>\n",
       "      <th>locality</th>\n",
       "      <th>type</th>\n",
       "      <th>rate</th>\n",
       "      <th>votes</th>\n",
       "      <th>cuisines</th>\n",
       "      <th>avg_cost</th>\n",
       "      <th>payment</th>\n",
       "      <th>timing</th>\n",
       "      <th>address</th>\n",
       "      <th>delivery</th>\n",
       "      <th>Table reservation required</th>\n",
       "      <th>Free Wifi</th>\n",
       "      <th>Full Bar Available</th>\n",
       "      <th>unlimited pizza</th>\n",
       "      <th>Private Dining Area Available</th>\n",
       "    </tr>\n",
       "  </thead>\n",
       "  <tbody>\n",
       "    <tr>\n",
       "      <th>0</th>\n",
       "      <td>AB's - Absolute Barbecues</td>\n",
       "      <td>https://www.zomato.com/pune/abs-absolute-barbe...</td>\n",
       "      <td>Hinjawadi</td>\n",
       "      <td>Casual Dining</td>\n",
       "      <td>4.9</td>\n",
       "      <td>7029  votes</td>\n",
       "      <td>Continental, North Indian, Chinese</td>\n",
       "      <td>₹1,400</td>\n",
       "      <td>Cash and Cards accepted</td>\n",
       "      <td>12noon – 4:30pm, 6:30pm – 11:30pm</td>\n",
       "      <td>Shop 206, 2nd Floor, White Square Building, Op...</td>\n",
       "      <td>0</td>\n",
       "      <td>0</td>\n",
       "      <td>0</td>\n",
       "      <td>1</td>\n",
       "      <td>0</td>\n",
       "      <td>0</td>\n",
       "    </tr>\n",
       "  </tbody>\n",
       "</table>\n",
       "</div>"
      ],
      "text/plain": [
       "                        name  \\\n",
       "0  AB's - Absolute Barbecues   \n",
       "\n",
       "                                            Web_Link   locality  \\\n",
       "0  https://www.zomato.com/pune/abs-absolute-barbe...  Hinjawadi   \n",
       "\n",
       "            type rate        votes                            cuisines  \\\n",
       "0  Casual Dining  4.9  7029  votes  Continental, North Indian, Chinese   \n",
       "\n",
       "  avg_cost                  payment                             timing  \\\n",
       "0   ₹1,400  Cash and Cards accepted  12noon – 4:30pm, 6:30pm – 11:30pm   \n",
       "\n",
       "                                             address  delivery  \\\n",
       "0  Shop 206, 2nd Floor, White Square Building, Op...         0   \n",
       "\n",
       "   Table reservation required  Free Wifi  Full Bar Available  unlimited pizza  \\\n",
       "0                           0          0                   1                0   \n",
       "\n",
       "   Private Dining Area Available  \n",
       "0                              0  "
      ]
     },
     "execution_count": 11,
     "metadata": {},
     "output_type": "execute_result"
    }
   ],
   "source": [
    "df = df.rename(columns = {\"Ratings_out_of_5\" : \"rate\", \"payment_modes\" : \"payment\", \n",
    "                   \"Rest_timming\" : \"timing\", \"Unlimited Pizz\": \"unlimited pizza\", \"Restaurant_Name\": \"name\", \"Number of votes\": \"votes\", \"Charges_for_two\": \"avg_cost\",\n",
    "                         \"Detail_address\": \"address\",\"Home Delivery\": \"delivery\", \"Cuisines\": \"cuisines\", \"Locality\": \"locality\", \"Sponsored\": \"type\"})\n",
    "df.head(n=1)"
   ]
  },
  {
   "cell_type": "markdown",
   "metadata": {},
   "source": [
    "# Cleaning the data column wise"
   ]
  },
  {
   "cell_type": "markdown",
   "metadata": {},
   "source": [
    "### Lets one by one check for each column, if there is any noise in the data and clean parallely if any "
   ]
  },
  {
   "cell_type": "markdown",
   "metadata": {},
   "source": [
    "#### name column"
   ]
  },
  {
   "cell_type": "code",
   "execution_count": 12,
   "metadata": {},
   "outputs": [
    {
     "data": {
      "text/plain": [
       "0"
      ]
     },
     "execution_count": 12,
     "metadata": {},
     "output_type": "execute_result"
    }
   ],
   "source": [
    "df['name'].isnull().sum()"
   ]
  },
  {
   "cell_type": "markdown",
   "metadata": {},
   "source": [
    "No null values in Name, don't you think this was also obvious, \"A restaurant without a name\". Oh I think I got a name for my restaurant!"
   ]
  },
  {
   "cell_type": "markdown",
   "metadata": {},
   "source": [
    "#### rate column"
   ]
  },
  {
   "cell_type": "code",
   "execution_count": 13,
   "metadata": {},
   "outputs": [
    {
     "data": {
      "text/plain": [
       "array(['4.9', '4.6', '4.3', '4.5', '4.0', '4.7', '4.2', '4.4', '4.1',\n",
       "       '3.7', '0', '4.8', '3.9', '3.6', '3.4', '3.8', '2.9', '3.5', '3.2',\n",
       "       '3.3', '2.1', '2.5', '2.4', '3.0', '3.1', '2.7', '2.6', '2.8',\n",
       "       '2.3', '-', '2.2', '2.0', '3', '4'], dtype=object)"
      ]
     },
     "execution_count": 13,
     "metadata": {},
     "output_type": "execute_result"
    }
   ],
   "source": [
    "df['rate'].unique()"
   ]
  },
  {
   "cell_type": "markdown",
   "metadata": {},
   "source": [
    "So there are some missing values e.g. nan, -, lets encode them with some value or leave them blank"
   ]
  },
  {
   "cell_type": "code",
   "execution_count": 14,
   "metadata": {},
   "outputs": [],
   "source": [
    "a = list(df['rate'])\n",
    "for i in range(0, len(a)):\n",
    "    if a[i] == '0':\n",
    "        a[i] = 'unrated'\n",
    "    elif a[i] == '-':\n",
    "        a[i] = 'unrated'\n",
    "        \n",
    "df['rate'] = a\n",
    "\n",
    "df['rate'].value_counts()\n",
    "\n",
    "a = list(df['rate'])\n",
    "for i in range(0, len(a)):\n",
    "    if a[i] == 'unrated':\n",
    "        a[i] = None\n",
    "    else :\n",
    "        a[i] = float(a[i])\n",
    "df['rate'] = a"
   ]
  },
  {
   "cell_type": "markdown",
   "metadata": {},
   "source": [
    "We have replaced all the nan and its equivalent by empty string or blanks which will now be our symbol for nans"
   ]
  },
  {
   "cell_type": "markdown",
   "metadata": {},
   "source": [
    "#### delivery column"
   ]
  },
  {
   "cell_type": "code",
   "execution_count": 15,
   "metadata": {},
   "outputs": [
    {
     "data": {
      "text/plain": [
       "array([0, 1], dtype=int64)"
      ]
     },
     "execution_count": 15,
     "metadata": {},
     "output_type": "execute_result"
    }
   ],
   "source": [
    "df['delivery'].unique()"
   ]
  },
  {
   "cell_type": "markdown",
   "metadata": {},
   "source": [
    "No missing values in our Home Delivery column, contains only 1 or 0"
   ]
  },
  {
   "cell_type": "code",
   "execution_count": 16,
   "metadata": {
    "scrolled": true
   },
   "outputs": [
    {
     "data": {
      "text/plain": [
       "1    8077\n",
       "0    4112\n",
       "Name: delivery, dtype: int64"
      ]
     },
     "execution_count": 16,
     "metadata": {},
     "output_type": "execute_result"
    }
   ],
   "source": [
    "a = list(df['delivery'])\n",
    "for i in range(0, len(a)):\n",
    "    if a[i] == '0':\n",
    "        a[i] = 'No'\n",
    "    elif a[i] == '1':\n",
    "        a[i] = 'Yes'\n",
    "        \n",
    "df['delivery'] = a\n",
    "\n",
    "df['delivery'].value_counts()"
   ]
  },
  {
   "cell_type": "markdown",
   "metadata": {},
   "source": [
    "#### avg_cost column"
   ]
  },
  {
   "cell_type": "code",
   "execution_count": 17,
   "metadata": {},
   "outputs": [
    {
     "name": "stdout",
     "output_type": "stream",
     "text": [
      "NULL values :  0\n",
      "Blank :  0\n"
     ]
    }
   ],
   "source": [
    "# Lets check the number of null values in the column\n",
    "print(\"NULL values : \",df['avg_cost'].isnull().sum())\n",
    "print(\"Blank : \", (df['avg_cost']==\"\").sum())"
   ]
  },
  {
   "cell_type": "markdown",
   "metadata": {},
   "source": [
    "Zero NULL values, Perfect!!! "
   ]
  },
  {
   "cell_type": "code",
   "execution_count": 18,
   "metadata": {
    "scrolled": true
   },
   "outputs": [
    {
     "data": {
      "text/plain": [
       "array(['₹1,400', '₹1,500', '₹2,500', '₹1,700', '₹150', '₹1,300', '₹1,000',\n",
       "       '₹250', '₹1,800', '₹1,600', '₹700', '₹900', '₹2,000', '₹600',\n",
       "       '₹1,200', '₹550', '₹2,200', '₹1,100', '₹500', '₹850', '₹300',\n",
       "       '₹2,100', '₹800', '₹400', '₹450', '₹650', '₹1,250', '₹950', '₹200',\n",
       "       '₹3,200', '₹350', '₹100', 'Not Present', '₹1,900', '₹3,000',\n",
       "       '₹750', '₹2,600', '₹2,700', '₹1,050', '₹1,350', '₹4,200', '₹4,000',\n",
       "       '₹2,00,250', '₹2,400', '₹1,750', '₹3,100', '₹420', '₹1,150',\n",
       "       '₹1,650', '₹2,900', '₹999', '₹1,950', '₹4,500', '₹280', '₹50',\n",
       "       '₹1,550', '₹160', '₹110', '₹220', '₹120', '₹15', '₹2,800',\n",
       "       '₹3,500'], dtype=object)"
      ]
     },
     "execution_count": 18,
     "metadata": {},
     "output_type": "execute_result"
    }
   ],
   "source": [
    "df['avg_cost'].unique()"
   ]
  },
  {
   "cell_type": "code",
   "execution_count": 19,
   "metadata": {},
   "outputs": [],
   "source": [
    "p = list(df['avg_cost'])\n",
    "for i in range(0, len(p)):\n",
    "    if p[i] == 'Not Present':\n",
    "        p[i] = None\n",
    "df['avg_cost'] = p"
   ]
  },
  {
   "cell_type": "markdown",
   "metadata": {},
   "source": [
    "#### votes column"
   ]
  },
  {
   "cell_type": "code",
   "execution_count": 20,
   "metadata": {},
   "outputs": [],
   "source": [
    "df['votes'] = df['votes'].apply(lambda x: str(x).split(' ')[0])"
   ]
  },
  {
   "cell_type": "code",
   "execution_count": 21,
   "metadata": {},
   "outputs": [
    {
     "data": {
      "text/plain": [
       "dtype('O')"
      ]
     },
     "execution_count": 21,
     "metadata": {},
     "output_type": "execute_result"
    }
   ],
   "source": [
    "df['votes'].dtypes"
   ]
  },
  {
   "cell_type": "code",
   "execution_count": 22,
   "metadata": {},
   "outputs": [
    {
     "data": {
      "text/plain": [
       "0"
      ]
     },
     "execution_count": 22,
     "metadata": {},
     "output_type": "execute_result"
    }
   ],
   "source": [
    "df['votes'].isnull().sum()"
   ]
  },
  {
   "cell_type": "code",
   "execution_count": 23,
   "metadata": {},
   "outputs": [
    {
     "data": {
      "text/plain": [
       "array(['7029', '2578', '3291', '430', '2138', '4731', '2999', '1437',\n",
       "       '2296', '3758', 'Based', '948', '280', '3435', '259', '498', '317',\n",
       "       '4665', '3243', '3006', '1334', '1983', '2938', '462', '2871',\n",
       "       '3281', '2039', '1941', '1057', '3847', '0', '3189', '1104',\n",
       "       '1112', '910', '1737', '1531', '7002', '4715', '2585', 'Na',\n",
       "       '1956', '5660', '2930', '3552', '1429', '1942', '1461', '2642',\n",
       "       '230', '1617', '2654', '1238', '1135', '866', '1971', '2401',\n",
       "       '134', '3341', '2624', '2161', '1102', '2758', '361', '4815',\n",
       "       '970', '3441', '527', '3693', '2792', '2450', '3790', '2528',\n",
       "       '3916', '2931', '1430', '938', '1647', '1894', '1044', '819',\n",
       "       '179', '1303', '1944', '773', '1042', '275', '987', '1438', '2857',\n",
       "       '378', '247', '350', '742', '3476', '589', '2486', '277', '890',\n",
       "       '687', '2189', '2208', '1641', '1861', '1289', '3230', '516',\n",
       "       '521', '1331', '723', '1158', '1670', '5334', '1948', '3908',\n",
       "       '3848', '741', '3081', '213', '431', '494', '210', '333', '883',\n",
       "       '1073', '1225', '1576', '1505', '1173', '1709', '257', '1816',\n",
       "       '1297', '671', '1528', '2283', '943', '2070', '422', '1472',\n",
       "       '1312', '1482', '3653', '570', '941', '1315', '708', '584', '510',\n",
       "       '1118', '156', '414', '3710', '212', '1188', '1344', '3296', '311',\n",
       "       '1702', '1141', '1474', '1535', '201', '2773', '749', '382', '847',\n",
       "       '2014', '770', '875', '1146', '1278', '265', '605', '1156', '1831',\n",
       "       '1883', '322', '1215', '409', '2185', '1365', '3674', '1021',\n",
       "       '618', '1772', '813', '140', '1959', '2696', '1086', '843', '84',\n",
       "       '113', '224', '117', '1754', '2818', '200', '2617', '175', '1164',\n",
       "       '1770', '309', '739', '623', '228', '207', '1270', '511', '356',\n",
       "       '805', '157', '962', '339', '329', '1055', '335', '441', '1628',\n",
       "       '1256', '161', '145', '1408', '216', '616', '474', '669', '705',\n",
       "       '1992', '791', '546', '130', '326', '1097', '1712', '1496', '2107',\n",
       "       '2235', '1193', '252', '297', '206', '151', '468', '483', '985',\n",
       "       '1070', '455', '1856', '389', '1675', '436', '127', '2010', '391',\n",
       "       '689', '172', '100', '719', '2144', '218', '1980', '268', '988',\n",
       "       '525', '641', '152', '2563', '250', '1767', '488', '524', '549',\n",
       "       '816', '1707', '679', '2244', '2445', '793', '237', '702', '1786',\n",
       "       '282', '2521', '184', '824', '2919', '971', '631', '415', '76',\n",
       "       '46', '234', '48', '358', '700', '599', '40', '418', '52', '209',\n",
       "       '204', '2812', '921', '580', '767', '403', '169', '240', '1456',\n",
       "       '363', '621', '439', '2683', '1465', '370', '396', '310', '86',\n",
       "       '262', '557', '645', '103', '123', '286', '949', '1213', '806',\n",
       "       '614', '236', '289', '231', '244', '870', '535', '923', '1049',\n",
       "       '698', '158', '287', '1235', '55', '1819', '359', '531', '118',\n",
       "       '1887', '96', '319', '1814', '1514', '3865', '337', '81', '168',\n",
       "       '588', '450', '91', '564', '1798', '2008', '537', '126', '137',\n",
       "       '573', '116', '346', '652', '638', '907', '2393', '583', '438',\n",
       "       '758', '193', '138', '655', '1931', '1599', '810', '724', '334',\n",
       "       '446', '775', '167', '160', '196', '215', '185', '214', '227',\n",
       "       '784', '188', '506', '1229', '90', '643', '131', '727', '205',\n",
       "       '1433', '432', '34', '513', '690', '561', '93', '754', '817',\n",
       "       '111', '730', '594', '961', '150', '349', '1243', '99', '61', '22',\n",
       "       '1848', '29', '703', '261', '1434', '278', '338', '932', '10',\n",
       "       '576', '914', '779', '412', '398', '325', '762', '490', '1688',\n",
       "       '476', '50', '461', '41', '835', '448', '1249', '1038', '852',\n",
       "       '1126', '307', '975', '547', '226', '301', '712', '778', '950',\n",
       "       '87', '470', '493', '290', '751', '177', '159', '37', '54', '251',\n",
       "       '597', '831', '3384', '1681', '387', '1160', '366', '1059', '425',\n",
       "       '133', '996', '110', '571', '271', '575', '65', '2285', '1089',\n",
       "       '600', '80', '136', '434', '1678', '70', '135', '292', '619',\n",
       "       '811', '44', '38', '496', '976', '421', '701', '1037', '298',\n",
       "       '394', '178', '444', '873', '364', '315', '466', '49', '295',\n",
       "       '242', '1695', '270', '1023', '666', '457', '424', '478', '392',\n",
       "       '355', '407', '233', '610', '191', '1085', '933', '30', '680',\n",
       "       '383', '89', '53', '71', '164', '256', '393', '486', '106', '142',\n",
       "       '1371', '761', '777', '27', '139', '348', '542', '1176', '36',\n",
       "       '354', '296', '586', '417', '725', '684', '105', '56', '351',\n",
       "       '475', '869', '675', '871', '189', '197', '202', '395', '1332',\n",
       "       '79', '173', '582', '782', '750', '367', '369', '691', '699',\n",
       "       '243', '543', '533', '536', '648', '1569', '529', '92', '174',\n",
       "       '375', '663', '399', '1010', '241', '279', '276', '371', '143',\n",
       "       '47', '14', '194', '124', '683', '479', '497', '221', '121', '45',\n",
       "       '603', '67', '165', '163', '1500', '373', '31', '119', '442',\n",
       "       '272', '952', '426', '266', '72', '74', '199', '59', '467', '114',\n",
       "       '112', '170', '664', '120', '863', '465', '155', '458', '1060',\n",
       "       '429', '115', '495', '433', '553', '235', '627', '891', '28', '63',\n",
       "       '405', '171', '656', '109', '83', '744', '75', '799', '60', '365',\n",
       "       '58', '340', '353', '73', '182', '332', '833', '190', '147', '17',\n",
       "       '25', '449', '443', '68', '563', '440', '82', '397', '410', '125',\n",
       "       '1398', '39', '98', '291', '590', '491', '1046', '62', '232',\n",
       "       '472', '330', '480', '1982', '11', '357', '260', '612', '1030',\n",
       "       '220', '69', '181', '688', '21', '153', '15', '33', '183', '42',\n",
       "       '245', '57', '107', '88', '129', '293', '264', '374', '615', '299',\n",
       "       '77', '85', '26', '32', '285', '66', '942', '102', '419', '186',\n",
       "       '176', '878', '381', '16', '95', '552', '122', '132', '146', '154',\n",
       "       '35', '427', '845', '97', '519', '796', '198', '492', '390', '166',\n",
       "       '413', '530', '435', '324', '284', '78', '108', '148', '211',\n",
       "       '846', '1358', '644', '13', '512', '312', '104', '682', '192',\n",
       "       '380', '328', '341', '842', '550', '269', '8', '219', '162', '94',\n",
       "       '128', '187', '43', '554', '400', '320', '18', '362', '20', '51',\n",
       "       '1288', '24', '732', '229', '520', '248', '1007', '401', '1324',\n",
       "       '294', '274', '386', '1033', '254', '9', '4', '144', '456', '636',\n",
       "       '647', '12', '316', '402', '376', '505', '203', '368', '657',\n",
       "       '420', '360', '451', '539', '318', '149', '64', '501', '660',\n",
       "       '463', '101', '5', '217', '771', '515', '556', '23', '342', '841',\n",
       "       '253', '634', '208', '585', '323', '239', '6', '408', '558', '946',\n",
       "       'com', '697', '303', '7', '313', '255', '737', '1019', '385',\n",
       "       '263', '604', '551', '517', '19', '141', '180', '565', '601',\n",
       "       '222', '258', '273', '473', '484', '876', '288', '327', '388',\n",
       "       '868', '352', '559', '267', '195', '908', '225', '673', '314',\n",
       "       '471', '445', '489', '503', '502', '249', '379'], dtype=object)"
      ]
     },
     "execution_count": 23,
     "metadata": {},
     "output_type": "execute_result"
    }
   ],
   "source": [
    "df['votes'].unique()"
   ]
  },
  {
   "cell_type": "code",
   "execution_count": 24,
   "metadata": {},
   "outputs": [],
   "source": [
    "a = list(df['votes'])\n",
    "for i in range(0, len(a)):\n",
    "    if a[i] == 'Based':\n",
    "        a[i] = 'unrated'\n",
    "    elif a[i] == '0':\n",
    "        a[i] = 'unrated'\n",
    "    elif a[i] == 'Na':\n",
    "        a[i] = 'unrated'\n",
    "    elif a[i] == 'com':\n",
    "        a[i] = 'unrated'\n",
    "        \n",
    "df['votes'] = a\n",
    "\n",
    "df['votes'].value_counts()\n",
    "\n",
    "a = list(df['votes'])\n",
    "for i in range(0, len(a)):\n",
    "    if a[i] == 'unrated':\n",
    "        a[i] = None\n",
    "df['votes'] = a"
   ]
  },
  {
   "cell_type": "code",
   "execution_count": 25,
   "metadata": {},
   "outputs": [],
   "source": [
    "df['votes'] = df['votes'].fillna(0)"
   ]
  },
  {
   "cell_type": "code",
   "execution_count": 26,
   "metadata": {},
   "outputs": [],
   "source": [
    "df['votes'] = df.votes.astype(int)"
   ]
  },
  {
   "cell_type": "code",
   "execution_count": 27,
   "metadata": {},
   "outputs": [
    {
     "data": {
      "text/html": [
       "<div>\n",
       "<style scoped>\n",
       "    .dataframe tbody tr th:only-of-type {\n",
       "        vertical-align: middle;\n",
       "    }\n",
       "\n",
       "    .dataframe tbody tr th {\n",
       "        vertical-align: top;\n",
       "    }\n",
       "\n",
       "    .dataframe thead th {\n",
       "        text-align: right;\n",
       "    }\n",
       "</style>\n",
       "<table border=\"1\" class=\"dataframe\">\n",
       "  <thead>\n",
       "    <tr style=\"text-align: right;\">\n",
       "      <th></th>\n",
       "      <th>name</th>\n",
       "      <th>Web_Link</th>\n",
       "      <th>locality</th>\n",
       "      <th>type</th>\n",
       "      <th>rate</th>\n",
       "      <th>votes</th>\n",
       "      <th>cuisines</th>\n",
       "      <th>avg_cost</th>\n",
       "      <th>payment</th>\n",
       "      <th>timing</th>\n",
       "      <th>address</th>\n",
       "      <th>delivery</th>\n",
       "      <th>Table reservation required</th>\n",
       "      <th>Free Wifi</th>\n",
       "      <th>Full Bar Available</th>\n",
       "      <th>unlimited pizza</th>\n",
       "      <th>Private Dining Area Available</th>\n",
       "    </tr>\n",
       "  </thead>\n",
       "  <tbody>\n",
       "    <tr>\n",
       "      <th>0</th>\n",
       "      <td>AB's - Absolute Barbecues</td>\n",
       "      <td>https://www.zomato.com/pune/abs-absolute-barbe...</td>\n",
       "      <td>Hinjawadi</td>\n",
       "      <td>Casual Dining</td>\n",
       "      <td>4.9</td>\n",
       "      <td>7029</td>\n",
       "      <td>Continental, North Indian, Chinese</td>\n",
       "      <td>₹1,400</td>\n",
       "      <td>Cash and Cards accepted</td>\n",
       "      <td>12noon – 4:30pm, 6:30pm – 11:30pm</td>\n",
       "      <td>Shop 206, 2nd Floor, White Square Building, Op...</td>\n",
       "      <td>0</td>\n",
       "      <td>0</td>\n",
       "      <td>0</td>\n",
       "      <td>1</td>\n",
       "      <td>0</td>\n",
       "      <td>0</td>\n",
       "    </tr>\n",
       "    <tr>\n",
       "      <th>1</th>\n",
       "      <td>Cafe Co2 Resto Lounge</td>\n",
       "      <td>https://www.zomato.com/pune/cafe-co2-resto-lou...</td>\n",
       "      <td>Bhugaon</td>\n",
       "      <td>Lounge, Casual Dining</td>\n",
       "      <td>4.6</td>\n",
       "      <td>2578</td>\n",
       "      <td>North Indian, Chinese, Continental, Kebab, Sea...</td>\n",
       "      <td>₹1,500</td>\n",
       "      <td>Cash and Cards accepted</td>\n",
       "      <td>11am – 4am</td>\n",
       "      <td>Near Manas Lake, Bhugaon, Pune</td>\n",
       "      <td>0</td>\n",
       "      <td>0</td>\n",
       "      <td>0</td>\n",
       "      <td>1</td>\n",
       "      <td>0</td>\n",
       "      <td>0</td>\n",
       "    </tr>\n",
       "    <tr>\n",
       "      <th>2</th>\n",
       "      <td>Paasha - JW Marriott Pune</td>\n",
       "      <td>https://www.zomato.com/pune/paasha-jw-marriott...</td>\n",
       "      <td>Senapati Bapat Road</td>\n",
       "      <td>Fine Dining</td>\n",
       "      <td>4.6</td>\n",
       "      <td>3291</td>\n",
       "      <td>North Indian, Kebab, Biryani</td>\n",
       "      <td>₹2,500</td>\n",
       "      <td>Cash,Cards and Digital Payments accepted</td>\n",
       "      <td>5:30pm – 12:30am</td>\n",
       "      <td>JW Marriott, Senapati Bapat Road, Pune</td>\n",
       "      <td>0</td>\n",
       "      <td>0</td>\n",
       "      <td>0</td>\n",
       "      <td>1</td>\n",
       "      <td>0</td>\n",
       "      <td>0</td>\n",
       "    </tr>\n",
       "    <tr>\n",
       "      <th>3</th>\n",
       "      <td>I Amsterdam</td>\n",
       "      <td>https://www.zomato.com/pune/i-amsterdam-hinjawadi</td>\n",
       "      <td>Hinjawadi</td>\n",
       "      <td>Casual Dining, Bar</td>\n",
       "      <td>4.3</td>\n",
       "      <td>430</td>\n",
       "      <td>Asian, European, Modern Indian, Italian</td>\n",
       "      <td>₹1,400</td>\n",
       "      <td>Cash,Cards and Digital Payments accepted</td>\n",
       "      <td>12noon – 1am</td>\n",
       "      <td>Survey 257/1/1A, Near Raj Laxmi Petrol Pump, P...</td>\n",
       "      <td>0</td>\n",
       "      <td>0</td>\n",
       "      <td>0</td>\n",
       "      <td>1</td>\n",
       "      <td>0</td>\n",
       "      <td>0</td>\n",
       "    </tr>\n",
       "    <tr>\n",
       "      <th>4</th>\n",
       "      <td>FC Road Social</td>\n",
       "      <td>https://www.zomato.com/pune/fc-road-social-shi...</td>\n",
       "      <td>Shivaji Nagar</td>\n",
       "      <td>Bar, Casual Dining</td>\n",
       "      <td>4.5</td>\n",
       "      <td>2138</td>\n",
       "      <td>North Indian, Chinese, Biryani, American, Cont...</td>\n",
       "      <td>₹1,500</td>\n",
       "      <td>Cash,Cards and Digital Payments accepted</td>\n",
       "      <td>9am – 1am</td>\n",
       "      <td>CTS 1183, Unit 101, 1st Floor, Mezzanine Floor...</td>\n",
       "      <td>1</td>\n",
       "      <td>0</td>\n",
       "      <td>0</td>\n",
       "      <td>1</td>\n",
       "      <td>0</td>\n",
       "      <td>0</td>\n",
       "    </tr>\n",
       "  </tbody>\n",
       "</table>\n",
       "</div>"
      ],
      "text/plain": [
       "                        name  \\\n",
       "0  AB's - Absolute Barbecues   \n",
       "1      Cafe Co2 Resto Lounge   \n",
       "2  Paasha - JW Marriott Pune   \n",
       "3                I Amsterdam   \n",
       "4             FC Road Social   \n",
       "\n",
       "                                            Web_Link             locality  \\\n",
       "0  https://www.zomato.com/pune/abs-absolute-barbe...            Hinjawadi   \n",
       "1  https://www.zomato.com/pune/cafe-co2-resto-lou...              Bhugaon   \n",
       "2  https://www.zomato.com/pune/paasha-jw-marriott...  Senapati Bapat Road   \n",
       "3  https://www.zomato.com/pune/i-amsterdam-hinjawadi            Hinjawadi   \n",
       "4  https://www.zomato.com/pune/fc-road-social-shi...        Shivaji Nagar   \n",
       "\n",
       "                    type  rate  votes  \\\n",
       "0          Casual Dining   4.9   7029   \n",
       "1  Lounge, Casual Dining   4.6   2578   \n",
       "2            Fine Dining   4.6   3291   \n",
       "3     Casual Dining, Bar   4.3    430   \n",
       "4     Bar, Casual Dining   4.5   2138   \n",
       "\n",
       "                                            cuisines avg_cost  \\\n",
       "0                 Continental, North Indian, Chinese   ₹1,400   \n",
       "1  North Indian, Chinese, Continental, Kebab, Sea...   ₹1,500   \n",
       "2                       North Indian, Kebab, Biryani   ₹2,500   \n",
       "3            Asian, European, Modern Indian, Italian   ₹1,400   \n",
       "4  North Indian, Chinese, Biryani, American, Cont...   ₹1,500   \n",
       "\n",
       "                                    payment  \\\n",
       "0                   Cash and Cards accepted   \n",
       "1                   Cash and Cards accepted   \n",
       "2  Cash,Cards and Digital Payments accepted   \n",
       "3  Cash,Cards and Digital Payments accepted   \n",
       "4  Cash,Cards and Digital Payments accepted   \n",
       "\n",
       "                              timing  \\\n",
       "0  12noon – 4:30pm, 6:30pm – 11:30pm   \n",
       "1                         11am – 4am   \n",
       "2                   5:30pm – 12:30am   \n",
       "3                       12noon – 1am   \n",
       "4                          9am – 1am   \n",
       "\n",
       "                                             address  delivery  \\\n",
       "0  Shop 206, 2nd Floor, White Square Building, Op...         0   \n",
       "1                     Near Manas Lake, Bhugaon, Pune         0   \n",
       "2             JW Marriott, Senapati Bapat Road, Pune         0   \n",
       "3  Survey 257/1/1A, Near Raj Laxmi Petrol Pump, P...         0   \n",
       "4  CTS 1183, Unit 101, 1st Floor, Mezzanine Floor...         1   \n",
       "\n",
       "   Table reservation required  Free Wifi  Full Bar Available  unlimited pizza  \\\n",
       "0                           0          0                   1                0   \n",
       "1                           0          0                   1                0   \n",
       "2                           0          0                   1                0   \n",
       "3                           0          0                   1                0   \n",
       "4                           0          0                   1                0   \n",
       "\n",
       "   Private Dining Area Available  \n",
       "0                              0  \n",
       "1                              0  \n",
       "2                              0  \n",
       "3                              0  \n",
       "4                              0  "
      ]
     },
     "execution_count": 27,
     "metadata": {},
     "output_type": "execute_result"
    }
   ],
   "source": [
    "df.head(n=5)"
   ]
  },
  {
   "cell_type": "markdown",
   "metadata": {},
   "source": [
    "#### locality column "
   ]
  },
  {
   "cell_type": "code",
   "execution_count": 28,
   "metadata": {},
   "outputs": [
    {
     "data": {
      "text/plain": [
       "0"
      ]
     },
     "execution_count": 28,
     "metadata": {},
     "output_type": "execute_result"
    }
   ],
   "source": [
    "df['locality'].isnull().sum()"
   ]
  },
  {
   "cell_type": "markdown",
   "metadata": {},
   "source": [
    "No NULL values in locality column, PERFECT!"
   ]
  },
  {
   "cell_type": "code",
   "execution_count": 29,
   "metadata": {},
   "outputs": [
    {
     "data": {
      "text/plain": [
       "array(['Hinjawadi', 'Bhugaon', 'Senapati Bapat Road', 'Shivaji Nagar',\n",
       "       'Wakad', 'East Street', 'Yerawada', 'Bavdhan', 'Kalyani Nagar',\n",
       "       'Narhe', 'Bund Garden Road', 'Viman Nagar', 'Magarpatta',\n",
       "       'Deccan Gymkhana', 'Hadapsar', 'Baner', 'Sus', 'Shivapur',\n",
       "       'Mundhwa', 'FC Road', 'Kothrud', 'Koregaon Park', 'Erandwane',\n",
       "       'MG Road', 'Karve Nagar', 'Sadashiv Peth', 'Pune University',\n",
       "       'JM Road', 'Dhole Patil Road', 'Camp Area', 'Pimple Saudagar',\n",
       "       'Kharadi', 'Ravet', 'Aundh', 'Nigdi', 'Kondhwa', 'Swargate',\n",
       "       'Katraj', 'Khadki', 'Salunkhe Vihar Road', 'Law College Road',\n",
       "       'Pimple Nilakh', 'Pashan', 'Lonavala', 'NIBM Road', 'Balewadi',\n",
       "       'Dange Chowk', 'SB Road - Aundh', 'Pimpri Chinchwad Area',\n",
       "       'Wadgaon Sheri', 'Pimpri', 'Wanowrie Kondhwa Area', 'Chinchwad',\n",
       "       'Chandan Nagar', 'Fatima Nagar', 'Budhwar Peth', 'Warje',\n",
       "       'Wagholi', 'Akurdi', 'Bibvewadi', 'Rasta Peth', 'KP and Kalyani',\n",
       "       'Sinhgad Road', 'Model Colony', 'Parvati',\n",
       "       'Magarpatta, Pune Sholapur Rd', 'Pimple Gurav', 'Lohegaon',\n",
       "       'Dhankawadi', 'Bhosari', 'Satara Road', 'Talawade', 'Mahalunge',\n",
       "       'Tilak Road', 'Old Mumbai-Pune Highway', 'Shukrawar Peth',\n",
       "       'Kothrud Area', 'Deccan & Peths', 'Ghorpadi', 'Dhanori',\n",
       "       'Wanowrie', 'Dehu Road', 'Pune-Solapur Road', 'Vishrantwadi',\n",
       "       'Shaniwar Peth', 'Khadakwasla', 'B.T. Kawade Road', 'Lavale',\n",
       "       'Talegaon', 'Shivane', 'Mulshi Road', 'Chakan', 'Expressway',\n",
       "       'Lavasa', 'Camp-MG Road Area', 'Koregaon Bhima', 'Khandala',\n",
       "       'Around Pune', 'Bopkhel'], dtype=object)"
      ]
     },
     "execution_count": 29,
     "metadata": {},
     "output_type": "execute_result"
    }
   ],
   "source": [
    "df['locality'].unique()"
   ]
  },
  {
   "cell_type": "code",
   "execution_count": 30,
   "metadata": {
    "scrolled": true
   },
   "outputs": [
    {
     "data": {
      "text/plain": [
       "99"
      ]
     },
     "execution_count": 30,
     "metadata": {},
     "output_type": "execute_result"
    }
   ],
   "source": [
    "df['locality'].nunique()"
   ]
  },
  {
   "cell_type": "markdown",
   "metadata": {},
   "source": [
    "So there are 99 neighborhoods in Pune, according to our dataset."
   ]
  },
  {
   "cell_type": "markdown",
   "metadata": {},
   "source": [
    "#### type column "
   ]
  },
  {
   "cell_type": "code",
   "execution_count": 31,
   "metadata": {},
   "outputs": [
    {
     "data": {
      "text/plain": [
       "0"
      ]
     },
     "execution_count": 31,
     "metadata": {},
     "output_type": "execute_result"
    }
   ],
   "source": [
    "df['type'].isnull().sum()"
   ]
  },
  {
   "cell_type": "code",
   "execution_count": 32,
   "metadata": {},
   "outputs": [
    {
     "data": {
      "text/plain": [
       "array(['Casual Dining', 'Lounge, Casual Dining', 'Fine Dining',\n",
       "       'Casual Dining, Bar', 'Bar, Casual Dining', 'Pub, Casual Dining',\n",
       "       'Bakery', 'Bar', 'Quick Bites', 'Café', 'Club',\n",
       "       'Casual Dining, Café', 'Microbrewery', 'Lounge', 'Bar, Pub',\n",
       "       'Café, Lounge', 'Irani Cafe', 'Club, Lounge',\n",
       "       'Café, Dessert Parlor', 'Lounge, Bar',\n",
       "       'Dessert Parlor, Beverage Shop', 'Casual Dining, Lounge',\n",
       "       'Dessert Parlor, Quick Bites', 'Café, Casual Dining',\n",
       "       'Dessert Parlor, Café', 'Fine Dining, Bar', 'Lounge, Pub',\n",
       "       'Sweet Shop, Quick Bites', 'Bar, Lounge', 'Takeaway, Delivery',\n",
       "       'Dessert Parlor, Bakery', 'Delivery', 'Dessert Parlor',\n",
       "       'Bakery, Dessert Parlor', 'Microbrewery, Pub',\n",
       "       'Food Truck, Dessert Parlor', 'Casual', 'Pub', 'Bar, Café',\n",
       "       'Food Court', 'Casual Dining, Dessert Parlor',\n",
       "       'Bakery, Quick Bites', 'Quick Bites, Dessert Parlor',\n",
       "       'Dessert Parlor, Food Truck', 'Pub, Café', 'Café, Bakery',\n",
       "       'Sweet Shop', 'Food Truck', 'Quick Bites, Café', 'Bakery, Café',\n",
       "       'Beverage Shop', 'Quick Bites, Food Court', 'Bhojanalya', 'Dhaba',\n",
       "       'Café, Quick Bites', 'Takeaway', 'Kiosk',\n",
       "       'Beverage Shop, Quick Bites', 'Beverage Shop, Dessert Parlor',\n",
       "       'Paan Shop', 'Food Court, Sweet Shop', 'Café, Bar',\n",
       "       'Quick Bites, Bakery', 'Mess', 'Sweet Shop, Bakery',\n",
       "       'Quick Bites, Beverage Shop', 'Dhaba, Bar',\n",
       "       'Paan Shop, Beverage Shop', 'Quick Bites, Sweet Shop',\n",
       "       'Irani Cafe, Quick Bites', 'Bakery, Sweet Shop',\n",
       "       'Confectionery, Bakery', 'Confectionery',\n",
       "       'Casual Dining, Microbrewery', 'Pub, Lounge',\n",
       "       'Dessert Parlor, Paan Shop', 'Food Truck, Quick Bites',\n",
       "       'Casual Dining, Pub', 'Café, Beverage Shop', 'Food Court, Bakery',\n",
       "       'Dessert Parlor, Sweet Shop'], dtype=object)"
      ]
     },
     "execution_count": 32,
     "metadata": {},
     "output_type": "execute_result"
    }
   ],
   "source": [
    "df['type'].unique()"
   ]
  },
  {
   "cell_type": "markdown",
   "metadata": {},
   "source": [
    "Assigning appropriate data type and column name to our data"
   ]
  },
  {
   "cell_type": "code",
   "execution_count": 33,
   "metadata": {},
   "outputs": [
    {
     "data": {
      "text/plain": [
       "name                              object\n",
       "Web_Link                          object\n",
       "locality                          object\n",
       "type                              object\n",
       "rate                             float64\n",
       "votes                              int32\n",
       "cuisines                          object\n",
       "avg_cost                          object\n",
       "payment                           object\n",
       "timing                            object\n",
       "address                           object\n",
       "delivery                           int64\n",
       "Table reservation required         int64\n",
       "Free Wifi                          int64\n",
       "Full Bar Available                 int64\n",
       "unlimited pizza                    int64\n",
       "Private Dining Area Available      int64\n",
       "dtype: object"
      ]
     },
     "execution_count": 33,
     "metadata": {},
     "output_type": "execute_result"
    }
   ],
   "source": [
    "# Verifying data types for each column\n",
    "df.dtypes"
   ]
  },
  {
   "cell_type": "markdown",
   "metadata": {},
   "source": [
    "For each of the column assignng their appropriate categories based on the analysis we have done so far."
   ]
  },
  {
   "cell_type": "code",
   "execution_count": 34,
   "metadata": {},
   "outputs": [],
   "source": [
    "df['locality'] = df['locality'].astype('category')\n",
    "df['Free Wifi'] = df['Free Wifi'].astype('category')"
   ]
  },
  {
   "cell_type": "code",
   "execution_count": 35,
   "metadata": {},
   "outputs": [
    {
     "data": {
      "text/plain": [
       "name                               object\n",
       "Web_Link                           object\n",
       "locality                         category\n",
       "type                               object\n",
       "rate                              float64\n",
       "votes                               int32\n",
       "cuisines                           object\n",
       "avg_cost                           object\n",
       "payment                            object\n",
       "timing                             object\n",
       "address                            object\n",
       "delivery                            int64\n",
       "Table reservation required          int64\n",
       "Free Wifi                        category\n",
       "Full Bar Available                  int64\n",
       "unlimited pizza                     int64\n",
       "Private Dining Area Available       int64\n",
       "dtype: object"
      ]
     },
     "execution_count": 35,
     "metadata": {},
     "output_type": "execute_result"
    }
   ],
   "source": [
    "df.dtypes"
   ]
  },
  {
   "cell_type": "markdown",
   "metadata": {},
   "source": [
    "#### Convert each of the column name to lower case character "
   ]
  },
  {
   "cell_type": "code",
   "execution_count": 36,
   "metadata": {},
   "outputs": [
    {
     "data": {
      "text/plain": [
       "Index(['name', 'Web_Link', 'locality', 'type', 'rate', 'votes', 'cuisines',\n",
       "       'avg_cost', 'payment', 'timing', 'address', 'delivery',\n",
       "       'Table reservation required', 'Free Wifi', 'Full Bar Available',\n",
       "       'unlimited pizza', 'Private Dining Area Available'],\n",
       "      dtype='object')"
      ]
     },
     "execution_count": 36,
     "metadata": {},
     "output_type": "execute_result"
    }
   ],
   "source": [
    "df.columns"
   ]
  },
  {
   "cell_type": "code",
   "execution_count": 37,
   "metadata": {},
   "outputs": [
    {
     "data": {
      "text/plain": [
       "Index(['name', 'web_link', 'locality', 'type', 'rate', 'votes', 'cuisines',\n",
       "       'avg_cost', 'payment', 'timing', 'address', 'delivery',\n",
       "       'table reservation required', 'free wifi', 'full bar available',\n",
       "       'unlimited pizza', 'private dining area available'],\n",
       "      dtype='object')"
      ]
     },
     "execution_count": 37,
     "metadata": {},
     "output_type": "execute_result"
    }
   ],
   "source": [
    "df.columns = map(str.lower, df.columns)\n",
    "df.columns"
   ]
  },
  {
   "cell_type": "code",
   "execution_count": 38,
   "metadata": {},
   "outputs": [
    {
     "data": {
      "text/html": [
       "<div>\n",
       "<style scoped>\n",
       "    .dataframe tbody tr th:only-of-type {\n",
       "        vertical-align: middle;\n",
       "    }\n",
       "\n",
       "    .dataframe tbody tr th {\n",
       "        vertical-align: top;\n",
       "    }\n",
       "\n",
       "    .dataframe thead th {\n",
       "        text-align: right;\n",
       "    }\n",
       "</style>\n",
       "<table border=\"1\" class=\"dataframe\">\n",
       "  <thead>\n",
       "    <tr style=\"text-align: right;\">\n",
       "      <th></th>\n",
       "      <th>name</th>\n",
       "      <th>web_link</th>\n",
       "      <th>locality</th>\n",
       "      <th>type</th>\n",
       "      <th>rate</th>\n",
       "      <th>votes</th>\n",
       "      <th>cuisines</th>\n",
       "      <th>avg_cost</th>\n",
       "      <th>payment</th>\n",
       "      <th>timing</th>\n",
       "      <th>address</th>\n",
       "      <th>delivery</th>\n",
       "      <th>table reservation required</th>\n",
       "      <th>free wifi</th>\n",
       "      <th>full bar available</th>\n",
       "      <th>unlimited pizza</th>\n",
       "      <th>private dining area available</th>\n",
       "    </tr>\n",
       "  </thead>\n",
       "  <tbody>\n",
       "    <tr>\n",
       "      <th>count</th>\n",
       "      <td>12189</td>\n",
       "      <td>12189</td>\n",
       "      <td>12189</td>\n",
       "      <td>12189</td>\n",
       "      <td>7712.000000</td>\n",
       "      <td>12189.000000</td>\n",
       "      <td>12189</td>\n",
       "      <td>10072</td>\n",
       "      <td>12189</td>\n",
       "      <td>12189</td>\n",
       "      <td>12189</td>\n",
       "      <td>12189.000000</td>\n",
       "      <td>12189.000000</td>\n",
       "      <td>12189.0</td>\n",
       "      <td>12189.000000</td>\n",
       "      <td>12189.000000</td>\n",
       "      <td>12189.000000</td>\n",
       "    </tr>\n",
       "    <tr>\n",
       "      <th>unique</th>\n",
       "      <td>11163</td>\n",
       "      <td>12134</td>\n",
       "      <td>99</td>\n",
       "      <td>81</td>\n",
       "      <td>NaN</td>\n",
       "      <td>NaN</td>\n",
       "      <td>2560</td>\n",
       "      <td>62</td>\n",
       "      <td>12</td>\n",
       "      <td>1329</td>\n",
       "      <td>11321</td>\n",
       "      <td>NaN</td>\n",
       "      <td>NaN</td>\n",
       "      <td>2.0</td>\n",
       "      <td>NaN</td>\n",
       "      <td>NaN</td>\n",
       "      <td>NaN</td>\n",
       "    </tr>\n",
       "    <tr>\n",
       "      <th>top</th>\n",
       "      <td>Hotel Malhar</td>\n",
       "      <td>https://www.zomato.com/pune/burger-up-aundh</td>\n",
       "      <td>Hadapsar</td>\n",
       "      <td>Quick Bites</td>\n",
       "      <td>NaN</td>\n",
       "      <td>NaN</td>\n",
       "      <td>North Indian</td>\n",
       "      <td>₹300</td>\n",
       "      <td>Cash only</td>\n",
       "      <td>11am – 11pm</td>\n",
       "      <td>KP and Kalyani</td>\n",
       "      <td>NaN</td>\n",
       "      <td>NaN</td>\n",
       "      <td>0.0</td>\n",
       "      <td>NaN</td>\n",
       "      <td>NaN</td>\n",
       "      <td>NaN</td>\n",
       "    </tr>\n",
       "    <tr>\n",
       "      <th>freq</th>\n",
       "      <td>13</td>\n",
       "      <td>2</td>\n",
       "      <td>575</td>\n",
       "      <td>5466</td>\n",
       "      <td>NaN</td>\n",
       "      <td>NaN</td>\n",
       "      <td>839</td>\n",
       "      <td>1431</td>\n",
       "      <td>3484</td>\n",
       "      <td>1825</td>\n",
       "      <td>82</td>\n",
       "      <td>NaN</td>\n",
       "      <td>NaN</td>\n",
       "      <td>11993.0</td>\n",
       "      <td>NaN</td>\n",
       "      <td>NaN</td>\n",
       "      <td>NaN</td>\n",
       "    </tr>\n",
       "    <tr>\n",
       "      <th>mean</th>\n",
       "      <td>NaN</td>\n",
       "      <td>NaN</td>\n",
       "      <td>NaN</td>\n",
       "      <td>NaN</td>\n",
       "      <td>3.436891</td>\n",
       "      <td>88.219132</td>\n",
       "      <td>NaN</td>\n",
       "      <td>NaN</td>\n",
       "      <td>NaN</td>\n",
       "      <td>NaN</td>\n",
       "      <td>NaN</td>\n",
       "      <td>0.662647</td>\n",
       "      <td>0.003774</td>\n",
       "      <td>NaN</td>\n",
       "      <td>0.093281</td>\n",
       "      <td>0.000246</td>\n",
       "      <td>0.005989</td>\n",
       "    </tr>\n",
       "    <tr>\n",
       "      <th>std</th>\n",
       "      <td>NaN</td>\n",
       "      <td>NaN</td>\n",
       "      <td>NaN</td>\n",
       "      <td>NaN</td>\n",
       "      <td>0.415953</td>\n",
       "      <td>329.126386</td>\n",
       "      <td>NaN</td>\n",
       "      <td>NaN</td>\n",
       "      <td>NaN</td>\n",
       "      <td>NaN</td>\n",
       "      <td>NaN</td>\n",
       "      <td>0.472826</td>\n",
       "      <td>0.061319</td>\n",
       "      <td>NaN</td>\n",
       "      <td>0.290838</td>\n",
       "      <td>0.015687</td>\n",
       "      <td>0.077160</td>\n",
       "    </tr>\n",
       "    <tr>\n",
       "      <th>min</th>\n",
       "      <td>NaN</td>\n",
       "      <td>NaN</td>\n",
       "      <td>NaN</td>\n",
       "      <td>NaN</td>\n",
       "      <td>2.000000</td>\n",
       "      <td>0.000000</td>\n",
       "      <td>NaN</td>\n",
       "      <td>NaN</td>\n",
       "      <td>NaN</td>\n",
       "      <td>NaN</td>\n",
       "      <td>NaN</td>\n",
       "      <td>0.000000</td>\n",
       "      <td>0.000000</td>\n",
       "      <td>NaN</td>\n",
       "      <td>0.000000</td>\n",
       "      <td>0.000000</td>\n",
       "      <td>0.000000</td>\n",
       "    </tr>\n",
       "    <tr>\n",
       "      <th>25%</th>\n",
       "      <td>NaN</td>\n",
       "      <td>NaN</td>\n",
       "      <td>NaN</td>\n",
       "      <td>NaN</td>\n",
       "      <td>3.100000</td>\n",
       "      <td>0.000000</td>\n",
       "      <td>NaN</td>\n",
       "      <td>NaN</td>\n",
       "      <td>NaN</td>\n",
       "      <td>NaN</td>\n",
       "      <td>NaN</td>\n",
       "      <td>0.000000</td>\n",
       "      <td>0.000000</td>\n",
       "      <td>NaN</td>\n",
       "      <td>0.000000</td>\n",
       "      <td>0.000000</td>\n",
       "      <td>0.000000</td>\n",
       "    </tr>\n",
       "    <tr>\n",
       "      <th>50%</th>\n",
       "      <td>NaN</td>\n",
       "      <td>NaN</td>\n",
       "      <td>NaN</td>\n",
       "      <td>NaN</td>\n",
       "      <td>3.400000</td>\n",
       "      <td>0.000000</td>\n",
       "      <td>NaN</td>\n",
       "      <td>NaN</td>\n",
       "      <td>NaN</td>\n",
       "      <td>NaN</td>\n",
       "      <td>NaN</td>\n",
       "      <td>1.000000</td>\n",
       "      <td>0.000000</td>\n",
       "      <td>NaN</td>\n",
       "      <td>0.000000</td>\n",
       "      <td>0.000000</td>\n",
       "      <td>0.000000</td>\n",
       "    </tr>\n",
       "    <tr>\n",
       "      <th>75%</th>\n",
       "      <td>NaN</td>\n",
       "      <td>NaN</td>\n",
       "      <td>NaN</td>\n",
       "      <td>NaN</td>\n",
       "      <td>3.700000</td>\n",
       "      <td>37.000000</td>\n",
       "      <td>NaN</td>\n",
       "      <td>NaN</td>\n",
       "      <td>NaN</td>\n",
       "      <td>NaN</td>\n",
       "      <td>NaN</td>\n",
       "      <td>1.000000</td>\n",
       "      <td>0.000000</td>\n",
       "      <td>NaN</td>\n",
       "      <td>0.000000</td>\n",
       "      <td>0.000000</td>\n",
       "      <td>0.000000</td>\n",
       "    </tr>\n",
       "    <tr>\n",
       "      <th>max</th>\n",
       "      <td>NaN</td>\n",
       "      <td>NaN</td>\n",
       "      <td>NaN</td>\n",
       "      <td>NaN</td>\n",
       "      <td>4.900000</td>\n",
       "      <td>7029.000000</td>\n",
       "      <td>NaN</td>\n",
       "      <td>NaN</td>\n",
       "      <td>NaN</td>\n",
       "      <td>NaN</td>\n",
       "      <td>NaN</td>\n",
       "      <td>1.000000</td>\n",
       "      <td>1.000000</td>\n",
       "      <td>NaN</td>\n",
       "      <td>1.000000</td>\n",
       "      <td>1.000000</td>\n",
       "      <td>1.000000</td>\n",
       "    </tr>\n",
       "  </tbody>\n",
       "</table>\n",
       "</div>"
      ],
      "text/plain": [
       "                name                                     web_link  locality  \\\n",
       "count          12189                                        12189     12189   \n",
       "unique         11163                                        12134        99   \n",
       "top     Hotel Malhar  https://www.zomato.com/pune/burger-up-aundh  Hadapsar   \n",
       "freq              13                                            2       575   \n",
       "mean             NaN                                          NaN       NaN   \n",
       "std              NaN                                          NaN       NaN   \n",
       "min              NaN                                          NaN       NaN   \n",
       "25%              NaN                                          NaN       NaN   \n",
       "50%              NaN                                          NaN       NaN   \n",
       "75%              NaN                                          NaN       NaN   \n",
       "max              NaN                                          NaN       NaN   \n",
       "\n",
       "               type         rate         votes      cuisines avg_cost  \\\n",
       "count         12189  7712.000000  12189.000000         12189    10072   \n",
       "unique           81          NaN           NaN          2560       62   \n",
       "top     Quick Bites          NaN           NaN  North Indian     ₹300   \n",
       "freq           5466          NaN           NaN           839     1431   \n",
       "mean            NaN     3.436891     88.219132           NaN      NaN   \n",
       "std             NaN     0.415953    329.126386           NaN      NaN   \n",
       "min             NaN     2.000000      0.000000           NaN      NaN   \n",
       "25%             NaN     3.100000      0.000000           NaN      NaN   \n",
       "50%             NaN     3.400000      0.000000           NaN      NaN   \n",
       "75%             NaN     3.700000     37.000000           NaN      NaN   \n",
       "max             NaN     4.900000   7029.000000           NaN      NaN   \n",
       "\n",
       "          payment       timing         address      delivery  \\\n",
       "count       12189        12189           12189  12189.000000   \n",
       "unique         12         1329           11321           NaN   \n",
       "top     Cash only  11am – 11pm  KP and Kalyani           NaN   \n",
       "freq         3484         1825              82           NaN   \n",
       "mean          NaN          NaN             NaN      0.662647   \n",
       "std           NaN          NaN             NaN      0.472826   \n",
       "min           NaN          NaN             NaN      0.000000   \n",
       "25%           NaN          NaN             NaN      0.000000   \n",
       "50%           NaN          NaN             NaN      1.000000   \n",
       "75%           NaN          NaN             NaN      1.000000   \n",
       "max           NaN          NaN             NaN      1.000000   \n",
       "\n",
       "        table reservation required  free wifi  full bar available  \\\n",
       "count                 12189.000000    12189.0        12189.000000   \n",
       "unique                         NaN        2.0                 NaN   \n",
       "top                            NaN        0.0                 NaN   \n",
       "freq                           NaN    11993.0                 NaN   \n",
       "mean                      0.003774        NaN            0.093281   \n",
       "std                       0.061319        NaN            0.290838   \n",
       "min                       0.000000        NaN            0.000000   \n",
       "25%                       0.000000        NaN            0.000000   \n",
       "50%                       0.000000        NaN            0.000000   \n",
       "75%                       0.000000        NaN            0.000000   \n",
       "max                       1.000000        NaN            1.000000   \n",
       "\n",
       "        unlimited pizza  private dining area available  \n",
       "count      12189.000000                   12189.000000  \n",
       "unique              NaN                            NaN  \n",
       "top                 NaN                            NaN  \n",
       "freq                NaN                            NaN  \n",
       "mean           0.000246                       0.005989  \n",
       "std            0.015687                       0.077160  \n",
       "min            0.000000                       0.000000  \n",
       "25%            0.000000                       0.000000  \n",
       "50%            0.000000                       0.000000  \n",
       "75%            0.000000                       0.000000  \n",
       "max            1.000000                       1.000000  "
      ]
     },
     "execution_count": 38,
     "metadata": {},
     "output_type": "execute_result"
    }
   ],
   "source": [
    "df.describe(include = 'all')"
   ]
  },
  {
   "cell_type": "markdown",
   "metadata": {},
   "source": [
    "## The data cleaning is done. We will now download a copy of this dataset for our EDA. \n"
   ]
  },
  {
   "cell_type": "markdown",
   "metadata": {},
   "source": [
    "Lets,\n",
    "\n",
    "1. Import a module to display a link to the file\n",
    "\n",
    "2. Import a module to delete the file\n",
    "\n",
    "3. Create a download function"
   ]
  },
  {
   "cell_type": "code",
   "execution_count": 39,
   "metadata": {},
   "outputs": [
    {
     "data": {
      "text/html": [
       "<a href='final_df.csv' target='_blank'>final_df.csv</a><br>"
      ],
      "text/plain": [
       "C:\\Users\\bhask\\final_df.csv"
      ]
     },
     "metadata": {},
     "output_type": "display_data"
    },
    {
     "name": "stdout",
     "output_type": "stream",
     "text": [
      "Press enter to delete the file after you have downloaded it.\n"
     ]
    }
   ],
   "source": [
    "from IPython.display import FileLink\n",
    "import os\n",
    "\n",
    "def csv_download_link(df, clean_data, delete_prompt=True):\n",
    "    \"\"\"Display a download link to load a data frame as csv from within a Jupyter notebook\"\"\"\n",
    "    df.to_csv(clean_data, index=False)\n",
    "    from IPython.display import FileLink\n",
    "    display(FileLink(clean_data))\n",
    "    if delete_prompt:\n",
    "        a = input('Press enter to delete the file after you have downloaded it.')\n",
    "        import os\n",
    "        os.remove(clean_data)\n",
    "        \n",
    "csv_download_link(df, 'final_df.csv')"
   ]
  },
  {
   "cell_type": "code",
   "execution_count": null,
   "metadata": {},
   "outputs": [],
   "source": []
  }
 ],
 "metadata": {
  "kernelspec": {
   "display_name": "Python 3",
   "language": "python",
   "name": "python3"
  },
  "language_info": {
   "codemirror_mode": {
    "name": "ipython",
    "version": 3
   },
   "file_extension": ".py",
   "mimetype": "text/x-python",
   "name": "python",
   "nbconvert_exporter": "python",
   "pygments_lexer": "ipython3",
   "version": "3.8.5"
  }
 },
 "nbformat": 4,
 "nbformat_minor": 4
}
